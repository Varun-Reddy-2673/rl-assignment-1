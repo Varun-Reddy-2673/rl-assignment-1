{
  "nbformat": 4,
  "nbformat_minor": 0,
  "metadata": {
    "colab": {
      "provenance": [],
      "include_colab_link": true
    },
    "kernelspec": {
      "name": "python3",
      "display_name": "Python 3"
    },
    "language_info": {
      "name": "python"
    }
  },
  "cells": [
    {
      "cell_type": "markdown",
      "metadata": {
        "id": "view-in-github",
        "colab_type": "text"
      },
      "source": [
        "<a href=\"https://colab.research.google.com/github/Eshaan416/rl-assignment-1/blob/main/RL_Assignment_2.ipynb\" target=\"_parent\"><img src=\"https://colab.research.google.com/assets/colab-badge.svg\" alt=\"Open In Colab\"/></a>"
      ]
    },
    {
      "cell_type": "code",
      "source": [
        "import random\n",
        "from tqdm import tqdm\n",
        "import matplotlib.pyplot as plt"
      ],
      "metadata": {
        "id": "fswo43T2JCSz"
      },
      "execution_count": 177,
      "outputs": []
    },
    {
      "cell_type": "code",
      "source": [
        "random.seed(30)"
      ],
      "metadata": {
        "id": "-Cv5L4lNfuQt"
      },
      "execution_count": 178,
      "outputs": []
    },
    {
      "cell_type": "code",
      "execution_count": 179,
      "metadata": {
        "id": "D5cH2xKbRJVe"
      },
      "outputs": [],
      "source": [
        "class State:\n",
        "    def __init__(self, name, is_terminal):\n",
        "        self.name = name\n",
        "        self.is_terminal = is_terminal\n",
        "        self.actions = []\n",
        "\n",
        "    def choose_action(self, e):\n",
        "        rand_val = random.random()\n",
        "        if rand_val < e:\n",
        "            return self.actions[int(random.random() * len(self.actions))]\n",
        "        else:\n",
        "            best_action = None\n",
        "            for action in self.actions:\n",
        "                if (best_action == None) or (sum(action.q) > sum(best_action.q)):\n",
        "                    best_action = action\n",
        "            return best_action\n",
        "\n",
        "    def get_best_action_val(self, degree, i):\n",
        "        best_action = None\n",
        "        if degree == 1:\n",
        "            j = 0\n",
        "        else:\n",
        "            j = [k for k in range(degree) if k != i][int(random.random() * (degree - 1))]\n",
        "        for action in self.actions:\n",
        "            if (best_action == None) or (action.q[i] > best_action.q[i]):\n",
        "                best_action = action\n",
        "        return best_action.q[j]"
      ]
    },
    {
      "cell_type": "code",
      "source": [
        "class Trans:\n",
        "    def __init__(self, prob, to_state, reward):\n",
        "        self.prob = prob\n",
        "        self.to_state = to_state\n",
        "        self.reward = reward"
      ],
      "metadata": {
        "id": "_K6DBzWKJXrd"
      },
      "execution_count": 180,
      "outputs": []
    },
    {
      "cell_type": "code",
      "source": [
        "class Action:\n",
        "    def __init__(self, name, trans_list, degree):\n",
        "        self.name = name\n",
        "        self.trans_list = trans_list\n",
        "        self.q = [0 for _ in range(degree)]\n",
        "\n",
        "    def take(self):\n",
        "        rand_val = random.random()\n",
        "        accum = 0\n",
        "        for trans in self.trans_list:\n",
        "            if (rand_val >= accum) and (rand_val < (accum + trans.prob)):\n",
        "                return trans\n",
        "            accum += trans.prob\n",
        "\n",
        "    def update_val(self, alpha, reward, gamma, next_state):\n",
        "        i = int(random.random() * len(self.q))\n",
        "        self.q[i] += alpha * (reward + (gamma * next_state.get_best_action_val(len(self.q), i)) - self.q[i])"
      ],
      "metadata": {
        "id": "f-YgwlsKHudp"
      },
      "execution_count": 181,
      "outputs": []
    },
    {
      "cell_type": "code",
      "source": [
        "class Environment:\n",
        "    def __init__(self, grid, degree):\n",
        "        self.states = dict()\n",
        "\n",
        "        for x in range(grid.n):\n",
        "            for y in range(grid.m):\n",
        "                if grid.get_type(x, y) != 'X':\n",
        "                    self.states[x, y] = State((x, y), (x, y) == grid.term_pos)\n",
        "\n",
        "        self.init_state = self.states[grid.init_pos]\n",
        "        self.degree = degree\n",
        "\n",
        "        for x in range(grid.n):\n",
        "            for y in range(grid.m):\n",
        "                if grid.get_type(x, y) == 'X':\n",
        "                    continue\n",
        "\n",
        "                for move in [('up', -1, 0), ('up-right', -1, 1), ('right', 0, 1), ('down-right', 1, 1), ('down', 1, 0), ('down-left', 1, -1), ('left', 0, -1), ('up-left', -1, -1)]:\n",
        "                    name, i, j = move\n",
        "\n",
        "                    if grid.get_type(x + i, y + j) == 'X':\n",
        "                        trans_list = [Trans(1, self.init_state, -100)]\n",
        "\n",
        "                    elif grid.get_type(x + i, y + j) == 'S':\n",
        "                        trans_list = [Trans(0.8, self.states[x + i, y + j], 100 if self.states[x + i, y + j].is_terminal else -1)]\n",
        "\n",
        "                        if grid.get_type(x + (i * 2), y + (j * 2)) == 'X':\n",
        "                            trans_list.append(Trans(0.2, self.init_state, -100))\n",
        "                        else:\n",
        "                            trans_list.append(Trans(0.2, self.states[x + (i * 2), y + (j * 2)], 100 if self.states[x + (i * 2), y + (j * 2)].is_terminal else -1))\n",
        "\n",
        "                    else:\n",
        "                        trans_list = [Trans(1, self.states[x + i, y + j], 100 if self.states[x + i, y + j].is_terminal else -1)]\n",
        "\n",
        "                    self.states[x, y].actions.append(Action(name, trans_list, degree))\n",
        "\n",
        "    def train_episode(self, max_length, epsilon, alpha, gamma):\n",
        "        curr_state = self.init_state\n",
        "        count = max_length\n",
        "        total_reward = 0\n",
        "\n",
        "        while not curr_state.is_terminal:\n",
        "            action = curr_state.choose_action(epsilon)\n",
        "            trans = action.take()\n",
        "            next_state, reward = trans.to_state, trans.reward\n",
        "            action.update_val(alpha, reward, gamma, next_state)\n",
        "            curr_state = next_state\n",
        "            total_reward += reward\n",
        "\n",
        "            count -= 1\n",
        "            if count == 0:\n",
        "                break\n",
        "\n",
        "        return total_reward\n",
        "\n",
        "    def test_episode(self, max_length, alpha, gamma):\n",
        "        curr_state = self.init_state\n",
        "        count = max_length\n",
        "\n",
        "        while not curr_state.is_terminal:\n",
        "            action = curr_state.choose_action(0)\n",
        "            trans = action.take()\n",
        "            next_state, reward = trans.to_state, trans.reward\n",
        "            print((curr_state.name, action.name, reward, next_state.name))\n",
        "            curr_state = next_state\n",
        "\n",
        "            count -= 1\n",
        "            if count == 0:\n",
        "                break\n",
        "\n",
        "    def train(self, num_episodes, max_length, epsilon, alpha, gamma):\n",
        "        total_reward_list = []\n",
        "        for _ in tqdm(range(num_episodes)):\n",
        "            total_reward = self.train_episode(max_length, epsilon, alpha, gamma)\n",
        "            total_reward_list.append(total_reward)\n",
        "        return total_reward_list"
      ],
      "metadata": {
        "id": "rD00kcMoNr8i"
      },
      "execution_count": 182,
      "outputs": []
    },
    {
      "cell_type": "code",
      "source": [
        "class Grid:\n",
        "    def __init__(self, base, init_pos, term_pos):\n",
        "        self.n, self.m = len(base), len(base[0])\n",
        "        self.base = base\n",
        "        self.init_pos = init_pos\n",
        "        self.term_pos = term_pos\n",
        "\n",
        "    def get_type(self, x, y):\n",
        "        if not ((x >= 0) and (x < self.n) and (y >= 0) and (y < self.m)):\n",
        "            return 'X'\n",
        "        else:\n",
        "            return self.base[x][y]"
      ],
      "metadata": {
        "id": "HXa1BNPbZu1y"
      },
      "execution_count": 183,
      "outputs": []
    },
    {
      "cell_type": "code",
      "source": [
        "grid = Grid([\n",
        "    '.SXXXX....',\n",
        "    '..SXSSX.X.',\n",
        "    '...X..XXS.',\n",
        "    '...SXS.X..',\n",
        "    '...SXX..XS',\n",
        "    '...XXXX...',\n",
        "    '...SXX....',\n",
        "    '..........',\n",
        "    'XS...S..XX',\n",
        "    'XX....SXXX'\n",
        "], (0, 0), (2, 9))\n",
        "\"\"\"\n",
        "grid = Grid([\n",
        "    '..SSX..S.X',\n",
        "    '.SXX.S.XS.',\n",
        "    'S.X..SS.X.',\n",
        "    'S..SX.X.S.',\n",
        "    '.S.X..SX..',\n",
        "    'S...SSX.X.',\n",
        "    '..SXXXXXXS',\n",
        "    'S.XX.S...X',\n",
        "    '..XS...S..',\n",
        "    '......S...'\n",
        "], (0, 0), (7, 7))\"\"\"\n",
        "\n",
        "performance_list = []"
      ],
      "metadata": {
        "id": "nxg1EBnbNxLm"
      },
      "execution_count": 184,
      "outputs": []
    },
    {
      "cell_type": "code",
      "source": [
        "env = Environment(grid, 1)\n",
        "performance_list.append(env.train(1000, 2000, 0.1, 0.1, 0.9))\n",
        "env.test_episode(20, 0.1, 0.9)"
      ],
      "metadata": {
        "id": "o5RYw1GHeToZ",
        "colab": {
          "base_uri": "https://localhost:8080/"
        },
        "outputId": "0185cecf-3c62-43c4-ce40-1766a9f1bea5"
      },
      "execution_count": 185,
      "outputs": [
        {
          "output_type": "stream",
          "name": "stderr",
          "text": [
            "100%|██████████| 1000/1000 [00:00<00:00, 6634.39it/s]"
          ]
        },
        {
          "output_type": "stream",
          "name": "stdout",
          "text": [
            "((0, 0), 'down-right', -1, (1, 1))\n",
            "((1, 1), 'down', -1, (2, 1))\n",
            "((2, 1), 'down-right', -1, (3, 2))\n",
            "((3, 2), 'down', -1, (4, 2))\n",
            "((4, 2), 'up-right', -1, (3, 3))\n",
            "((3, 3), 'up-right', -1, (2, 4))\n",
            "((2, 4), 'right', -1, (2, 5))\n",
            "((2, 5), 'down-right', -1, (3, 6))\n",
            "((3, 6), 'down-right', -1, (4, 7))\n",
            "((4, 7), 'up-right', -1, (3, 8))\n",
            "((3, 8), 'up-right', 100, (2, 9))\n"
          ]
        },
        {
          "output_type": "stream",
          "name": "stderr",
          "text": [
            "\n"
          ]
        }
      ]
    },
    {
      "cell_type": "code",
      "source": [
        "env = Environment(grid, 2)\n",
        "performance_list.append(env.train(1000, 2000, 0.1, 0.1, 0.9))\n",
        "env.test_episode(20, 0.1, 0.9)"
      ],
      "metadata": {
        "colab": {
          "base_uri": "https://localhost:8080/"
        },
        "id": "K-XJmHYd5Cni",
        "outputId": "4bc8a830-b6c8-4e1b-afaf-78b76199827c"
      },
      "execution_count": 186,
      "outputs": [
        {
          "output_type": "stream",
          "name": "stderr",
          "text": [
            "100%|██████████| 1000/1000 [00:00<00:00, 4345.93it/s]"
          ]
        },
        {
          "output_type": "stream",
          "name": "stdout",
          "text": [
            "((0, 0), 'down-right', -1, (1, 1))\n",
            "((1, 1), 'down-left', -1, (2, 0))\n",
            "((2, 0), 'down', -1, (3, 0))\n",
            "((3, 0), 'down-right', -1, (4, 1))\n",
            "((4, 1), 'down-left', -1, (5, 0))\n",
            "((5, 0), 'down-right', -1, (6, 1))\n",
            "((6, 1), 'down-right', -1, (7, 2))\n",
            "((7, 2), 'right', -1, (7, 3))\n",
            "((7, 3), 'right', -1, (7, 4))\n",
            "((7, 4), 'right', -1, (7, 5))\n",
            "((7, 5), 'up-right', -1, (6, 6))\n",
            "((6, 6), 'up-right', -1, (5, 7))\n",
            "((5, 7), 'up', -1, (4, 7))\n",
            "((4, 7), 'up-right', -1, (3, 8))\n",
            "((3, 8), 'up-right', 100, (2, 9))\n"
          ]
        },
        {
          "output_type": "stream",
          "name": "stderr",
          "text": [
            "\n"
          ]
        }
      ]
    },
    {
      "cell_type": "code",
      "source": [
        "env = Environment(grid, 3)\n",
        "performance_list.append(env.train(1000, 2000, 0.1, 0.1, 0.9))\n",
        "env.test_episode(20, 0.1, 0.9)"
      ],
      "metadata": {
        "colab": {
          "base_uri": "https://localhost:8080/"
        },
        "id": "gXyF9iFo5DJk",
        "outputId": "e7ac3731-54b2-460d-9931-8550680c47b5"
      },
      "execution_count": 187,
      "outputs": [
        {
          "output_type": "stream",
          "name": "stderr",
          "text": [
            "100%|██████████| 1000/1000 [00:00<00:00, 4418.65it/s]"
          ]
        },
        {
          "output_type": "stream",
          "name": "stdout",
          "text": [
            "((0, 0), 'down-right', -1, (1, 1))\n",
            "((1, 1), 'down', -1, (2, 1))\n",
            "((2, 1), 'down-left', -1, (3, 0))\n",
            "((3, 0), 'down-right', -1, (4, 1))\n",
            "((4, 1), 'down', -1, (5, 1))\n",
            "((5, 1), 'down', -1, (6, 1))\n",
            "((6, 1), 'down-right', -1, (7, 2))\n",
            "((7, 2), 'down-right', -1, (8, 3))\n",
            "((8, 3), 'right', -1, (8, 4))\n",
            "((8, 4), 'right', -1, (8, 5))\n",
            "((8, 5), 'up-right', -1, (7, 6))\n",
            "((7, 6), 'up', -1, (6, 6))\n",
            "((6, 6), 'up-right', -1, (5, 7))\n",
            "((5, 7), 'up', -1, (4, 7))\n",
            "((4, 7), 'up-right', -1, (3, 8))\n",
            "((3, 8), 'up-right', 100, (2, 9))\n"
          ]
        },
        {
          "output_type": "stream",
          "name": "stderr",
          "text": [
            "\n"
          ]
        }
      ]
    },
    {
      "cell_type": "code",
      "source": [
        "env = Environment(grid, 4)\n",
        "performance_list.append(env.train(1000, 2000, 0.1, 0.1, 0.9))\n",
        "env.test_episode(20, 0.1, 0.9)"
      ],
      "metadata": {
        "colab": {
          "base_uri": "https://localhost:8080/"
        },
        "id": "x1MpoQbQ5DwY",
        "outputId": "792b2140-8d2f-4c1c-e655-91f3e1c4d5b9"
      },
      "execution_count": 188,
      "outputs": [
        {
          "output_type": "stream",
          "name": "stderr",
          "text": [
            "100%|██████████| 1000/1000 [00:00<00:00, 3805.36it/s]"
          ]
        },
        {
          "output_type": "stream",
          "name": "stdout",
          "text": [
            "((0, 0), 'down-right', -1, (1, 1))\n",
            "((1, 1), 'down', -1, (2, 1))\n",
            "((2, 1), 'down', -1, (3, 1))\n",
            "((3, 1), 'down-right', -1, (4, 2))\n",
            "((4, 2), 'up-right', -1, (3, 3))\n",
            "((3, 3), 'up-right', -1, (2, 4))\n",
            "((2, 4), 'right', -1, (2, 5))\n",
            "((2, 5), 'down-right', -1, (3, 6))\n",
            "((3, 6), 'down-right', -1, (4, 7))\n",
            "((4, 7), 'up-right', -1, (3, 8))\n",
            "((3, 8), 'up-right', 100, (2, 9))\n"
          ]
        },
        {
          "output_type": "stream",
          "name": "stderr",
          "text": [
            "\n"
          ]
        }
      ]
    },
    {
      "cell_type": "code",
      "source": [
        "labels = ['Q-leanring', 'Double q-learning', 'Triple q-learning', 'Quadruple q-learning']\n",
        "for i, total_reward_list in enumerate(performance_list):\n",
        "    plt.plot([((i + 1) * 1) for i in range(100)], [(sum(total_reward_list[(i * 1) : ((i + 1) * 1)]) / 1) for i in range(100)], label=labels[i])\n",
        "plt.title('Comparison of different q-learning methods')\n",
        "plt.xlabel('Number of episodes')\n",
        "plt.ylabel('Reward obtained')\n",
        "plt.legend()"
      ],
      "metadata": {
        "colab": {
          "base_uri": "https://localhost:8080/",
          "height": 490
        },
        "id": "l_gDA6h8-bZu",
        "outputId": "7e1dbc42-6539-45ae-adaf-717f1020ae12"
      },
      "execution_count": 190,
      "outputs": [
        {
          "output_type": "execute_result",
          "data": {
            "text/plain": [
              "<matplotlib.legend.Legend at 0x7b88bffae440>"
            ]
          },
          "metadata": {},
          "execution_count": 190
        },
        {
          "output_type": "display_data",
          "data": {
            "text/plain": [
              "<Figure size 640x480 with 1 Axes>"
            ],
            "image/png": "[encoded data removed]"
          },
          "metadata": {}
        }
      ]
    },
    {
      "cell_type": "code",
      "source": [],
      "metadata": {
        "id": "hU6rZnFRSE3U"
      },
      "execution_count": 189,
      "outputs": []
    }
  ]
}